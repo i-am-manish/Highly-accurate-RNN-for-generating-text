{
  "cells": [
    {
      "metadata": {
        "_uuid": "8f2839f25d086af736a60e9eeb907d3b93b6e0e5",
        "_cell_guid": "b1076dfc-b9ad-4769-8c92-a6c4dae69d19",
        "trusted": true
      },
      "cell_type": "code",
      "source": "import numpy as np\nimport keras\nfrom keras.models import Sequential\nfrom keras.layers import Dense,Dropout,LSTM,TimeDistributed\nfrom keras.utils import np_utils\n\ndata=open(\"../input/othello/Othello.txt\").read().lower()\nchar=sorted(list(set(data)))\ncharid={char:Id for Id,char in enumerate(char)}\n#samplespertrain=100\nid_to_char={Id:char for Id, char in enumerate(char)}\ntotal_length=len(data)\nunique_char=len(char)",
      "execution_count": 29,
      "outputs": []
    },
    {
      "metadata": {
        "_cell_guid": "79c7e3d0-c299-4dcb-8224-4455121ee9b0",
        "_uuid": "d629ff2d2480ee46fbb7e2d37f6b5fab8052498a",
        "trusted": true
      },
      "cell_type": "code",
      "source": "charX=[]\ny=[]\npause=total_length-100\nfor i in range(0,pause,1):\n    inputChar=data[i:i+100]\n    outputChar=data[i+100]\n    charX.append([charid[char] for char in inputChar])\n    y.append(charid[outputChar])\n\nX = np.reshape(charX,(len(charX),100, 1)) #samples-timesteps-features\nX = X/(len(char))\nprint(X.shape)\ny = np_utils.to_categorical(y)\nprint(y.shape)",
      "execution_count": 30,
      "outputs": [
        {
          "output_type": "stream",
          "text": "(1760, 100, 1)\n(1760, 30)\n",
          "name": "stdout"
        }
      ]
    },
    {
      "metadata": {
        "trusted": true,
        "_uuid": "7872364bc9ee86a9a406b9bb90e12955884301c0"
      },
      "cell_type": "code",
      "source": "model = Sequential()\nmodel.add(LSTM(256, input_shape=(100,1), return_sequences=True))\nmodel.add(Dropout(0.2))\nmodel.add(LSTM(256))\nmodel.add(Dropout(0.2))\nmodel.add(Dense(y.shape[1], activation='softmax'))\n\n\nmodel.compile(loss='binary_crossentropy',optimizer='adam',metrics=['accuracy'])\nmodel.fit(X,y,epochs=100,batch_size=50,validation_split=0.2)",
      "execution_count": 44,
      "outputs": [
        {
          "output_type": "stream",
          "text": "Train on 1408 samples, validate on 352 samples\nEpoch 1/100\n1408/1408 [==============================] - 11s 8ms/step - loss: 0.1369 - acc: 0.9667 - val_loss: 0.1307 - val_acc: 0.9667\nEpoch 2/100\n1408/1408 [==============================] - 9s 7ms/step - loss: 0.1339 - acc: 0.9667 - val_loss: 0.1309 - val_acc: 0.9667\nEpoch 3/100\n1408/1408 [==============================] - 9s 7ms/step - loss: 0.1333 - acc: 0.9667 - val_loss: 0.1295 - val_acc: 0.9667\nEpoch 4/100\n1408/1408 [==============================] - 9s 7ms/step - loss: 0.1332 - acc: 0.9667 - val_loss: 0.1301 - val_acc: 0.9667\nEpoch 5/100\n1408/1408 [==============================] - 9s 7ms/step - loss: 0.1329 - acc: 0.9667 - val_loss: 0.1299 - val_acc: 0.9667\nEpoch 6/100\n1408/1408 [==============================] - 9s 7ms/step - loss: 0.1329 - acc: 0.9667 - val_loss: 0.1299 - val_acc: 0.9667\nEpoch 7/100\n1408/1408 [==============================] - 10s 7ms/step - loss: 0.1329 - acc: 0.9667 - val_loss: 0.1292 - val_acc: 0.9667\nEpoch 8/100\n1408/1408 [==============================] - 9s 7ms/step - loss: 0.1325 - acc: 0.9667 - val_loss: 0.1294 - val_acc: 0.9667\nEpoch 9/100\n1408/1408 [==============================] - 9s 7ms/step - loss: 0.1328 - acc: 0.9667 - val_loss: 0.1291 - val_acc: 0.9667\nEpoch 10/100\n1408/1408 [==============================] - 9s 7ms/step - loss: 0.1326 - acc: 0.9667 - val_loss: 0.1294 - val_acc: 0.9667\nEpoch 11/100\n1408/1408 [==============================] - 9s 7ms/step - loss: 0.1326 - acc: 0.9667 - val_loss: 0.1294 - val_acc: 0.9667\nEpoch 12/100\n1408/1408 [==============================] - 9s 7ms/step - loss: 0.1327 - acc: 0.9667 - val_loss: 0.1291 - val_acc: 0.9667\nEpoch 13/100\n1408/1408 [==============================] - 9s 7ms/step - loss: 0.1326 - acc: 0.9667 - val_loss: 0.1288 - val_acc: 0.9667\nEpoch 14/100\n1408/1408 [==============================] - 9s 7ms/step - loss: 0.1324 - acc: 0.9667 - val_loss: 0.1288 - val_acc: 0.9667\nEpoch 15/100\n1408/1408 [==============================] - 9s 7ms/step - loss: 0.1326 - acc: 0.9667 - val_loss: 0.1290 - val_acc: 0.9667\nEpoch 16/100\n1408/1408 [==============================] - 9s 7ms/step - loss: 0.1323 - acc: 0.9667 - val_loss: 0.1287 - val_acc: 0.9667\nEpoch 17/100\n1408/1408 [==============================] - 9s 7ms/step - loss: 0.1322 - acc: 0.9667 - val_loss: 0.1288 - val_acc: 0.9667\nEpoch 18/100\n1408/1408 [==============================] - 9s 7ms/step - loss: 0.1320 - acc: 0.9667 - val_loss: 0.1282 - val_acc: 0.9667\nEpoch 19/100\n1408/1408 [==============================] - 9s 7ms/step - loss: 0.1317 - acc: 0.9667 - val_loss: 0.1280 - val_acc: 0.9667\nEpoch 20/100\n1408/1408 [==============================] - 9s 7ms/step - loss: 0.1314 - acc: 0.9667 - val_loss: 0.1279 - val_acc: 0.9667\nEpoch 21/100\n1408/1408 [==============================] - 9s 7ms/step - loss: 0.1315 - acc: 0.9667 - val_loss: 0.1274 - val_acc: 0.9667\nEpoch 22/100\n1408/1408 [==============================] - 9s 7ms/step - loss: 0.1312 - acc: 0.9667 - val_loss: 0.1281 - val_acc: 0.9667\nEpoch 23/100\n1408/1408 [==============================] - 9s 7ms/step - loss: 0.1312 - acc: 0.9667 - val_loss: 0.1281 - val_acc: 0.9667\nEpoch 24/100\n1408/1408 [==============================] - 9s 7ms/step - loss: 0.1307 - acc: 0.9667 - val_loss: 0.1272 - val_acc: 0.9667\nEpoch 25/100\n1408/1408 [==============================] - 9s 7ms/step - loss: 0.1305 - acc: 0.9667 - val_loss: 0.1274 - val_acc: 0.9667\nEpoch 26/100\n1408/1408 [==============================] - 9s 7ms/step - loss: 0.1302 - acc: 0.9667 - val_loss: 0.1274 - val_acc: 0.9667\nEpoch 27/100\n1408/1408 [==============================] - 9s 7ms/step - loss: 0.1297 - acc: 0.9667 - val_loss: 0.1261 - val_acc: 0.9667\nEpoch 28/100\n1408/1408 [==============================] - 9s 7ms/step - loss: 0.1293 - acc: 0.9667 - val_loss: 0.1255 - val_acc: 0.9667\nEpoch 29/100\n1408/1408 [==============================] - 9s 7ms/step - loss: 0.1289 - acc: 0.9667 - val_loss: 0.1252 - val_acc: 0.9667\nEpoch 30/100\n1408/1408 [==============================] - 9s 7ms/step - loss: 0.1281 - acc: 0.9667 - val_loss: 0.1243 - val_acc: 0.9667\nEpoch 31/100\n1408/1408 [==============================] - 9s 7ms/step - loss: 0.1273 - acc: 0.9667 - val_loss: 0.1232 - val_acc: 0.9667\nEpoch 32/100\n1408/1408 [==============================] - 9s 7ms/step - loss: 0.1269 - acc: 0.9667 - val_loss: 0.1240 - val_acc: 0.9667\nEpoch 33/100\n1408/1408 [==============================] - 9s 7ms/step - loss: 0.1265 - acc: 0.9667 - val_loss: 0.1232 - val_acc: 0.9667\nEpoch 34/100\n1408/1408 [==============================] - 9s 7ms/step - loss: 0.1250 - acc: 0.9667 - val_loss: 0.1230 - val_acc: 0.9667\nEpoch 35/100\n1408/1408 [==============================] - 9s 7ms/step - loss: 0.1250 - acc: 0.9667 - val_loss: 0.1221 - val_acc: 0.9667\nEpoch 36/100\n1408/1408 [==============================] - 9s 7ms/step - loss: 0.1239 - acc: 0.9667 - val_loss: 0.1220 - val_acc: 0.9667\nEpoch 37/100\n1408/1408 [==============================] - 9s 7ms/step - loss: 0.1226 - acc: 0.9667 - val_loss: 0.1213 - val_acc: 0.9667\nEpoch 38/100\n1408/1408 [==============================] - 9s 7ms/step - loss: 0.1213 - acc: 0.9666 - val_loss: 0.1212 - val_acc: 0.9667\nEpoch 39/100\n1408/1408 [==============================] - 9s 7ms/step - loss: 0.1200 - acc: 0.9669 - val_loss: 0.1213 - val_acc: 0.9668\nEpoch 40/100\n1408/1408 [==============================] - 9s 7ms/step - loss: 0.1192 - acc: 0.9668 - val_loss: 0.1204 - val_acc: 0.9666\nEpoch 41/100\n1408/1408 [==============================] - 9s 7ms/step - loss: 0.1175 - acc: 0.9668 - val_loss: 0.1205 - val_acc: 0.9666\nEpoch 42/100\n1408/1408 [==============================] - 9s 7ms/step - loss: 0.1153 - acc: 0.9670 - val_loss: 0.1208 - val_acc: 0.9667\nEpoch 43/100\n1408/1408 [==============================] - 9s 7ms/step - loss: 0.1133 - acc: 0.9672 - val_loss: 0.1234 - val_acc: 0.9665\nEpoch 44/100\n1408/1408 [==============================] - 9s 7ms/step - loss: 0.1117 - acc: 0.9674 - val_loss: 0.1234 - val_acc: 0.9666\nEpoch 45/100\n1408/1408 [==============================] - 9s 7ms/step - loss: 0.1088 - acc: 0.9675 - val_loss: 0.1227 - val_acc: 0.9666\nEpoch 46/100\n1408/1408 [==============================] - 9s 7ms/step - loss: 0.1057 - acc: 0.9681 - val_loss: 0.1235 - val_acc: 0.9670\nEpoch 47/100\n1408/1408 [==============================] - 9s 7ms/step - loss: 0.1047 - acc: 0.9683 - val_loss: 0.1268 - val_acc: 0.9667\nEpoch 48/100\n1408/1408 [==============================] - 9s 7ms/step - loss: 0.1013 - acc: 0.9684 - val_loss: 0.1264 - val_acc: 0.9663\nEpoch 49/100\n1408/1408 [==============================] - 9s 7ms/step - loss: 0.0968 - acc: 0.9698 - val_loss: 0.1284 - val_acc: 0.9653\nEpoch 50/100\n1408/1408 [==============================] - 9s 7ms/step - loss: 0.0932 - acc: 0.9693 - val_loss: 0.1310 - val_acc: 0.9658\nEpoch 51/100\n1408/1408 [==============================] - 9s 7ms/step - loss: 0.0876 - acc: 0.9710 - val_loss: 0.1320 - val_acc: 0.9655\nEpoch 52/100\n1408/1408 [==============================] - 9s 7ms/step - loss: 0.0841 - acc: 0.9716 - val_loss: 0.1338 - val_acc: 0.9643\nEpoch 53/100\n1408/1408 [==============================] - 9s 7ms/step - loss: 0.0790 - acc: 0.9725 - val_loss: 0.1362 - val_acc: 0.9650\nEpoch 54/100\n1408/1408 [==============================] - 9s 7ms/step - loss: 0.0721 - acc: 0.9748 - val_loss: 0.1409 - val_acc: 0.9643\nEpoch 55/100\n1408/1408 [==============================] - 9s 7ms/step - loss: 0.0676 - acc: 0.9763 - val_loss: 0.1427 - val_acc: 0.9625\nEpoch 56/100\n1408/1408 [==============================] - 9s 7ms/step - loss: 0.0626 - acc: 0.9778 - val_loss: 0.1430 - val_acc: 0.9624\nEpoch 57/100\n1408/1408 [==============================] - 9s 7ms/step - loss: 0.0563 - acc: 0.9801 - val_loss: 0.1479 - val_acc: 0.9629\nEpoch 58/100\n1408/1408 [==============================] - 9s 7ms/step - loss: 0.0519 - acc: 0.9817 - val_loss: 0.1514 - val_acc: 0.9612\nEpoch 59/100\n1408/1408 [==============================] - 9s 7ms/step - loss: 0.0466 - acc: 0.9836 - val_loss: 0.1554 - val_acc: 0.9604\nEpoch 60/100\n1408/1408 [==============================] - 9s 7ms/step - loss: 0.0406 - acc: 0.9864 - val_loss: 0.1573 - val_acc: 0.9600\n",
          "name": "stdout"
        },
        {
          "output_type": "stream",
          "text": "Epoch 61/100\n1408/1408 [==============================] - 9s 7ms/step - loss: 0.0362 - acc: 0.9885 - val_loss: 0.1597 - val_acc: 0.9601\nEpoch 62/100\n1408/1408 [==============================] - 9s 7ms/step - loss: 0.0315 - acc: 0.9900 - val_loss: 0.1665 - val_acc: 0.9584\nEpoch 63/100\n1408/1408 [==============================] - 9s 7ms/step - loss: 0.0277 - acc: 0.9918 - val_loss: 0.1700 - val_acc: 0.9581\nEpoch 64/100\n1408/1408 [==============================] - 9s 7ms/step - loss: 0.0252 - acc: 0.9931 - val_loss: 0.1715 - val_acc: 0.9589\nEpoch 65/100\n1408/1408 [==============================] - 9s 7ms/step - loss: 0.0219 - acc: 0.9942 - val_loss: 0.1724 - val_acc: 0.9573\nEpoch 66/100\n1408/1408 [==============================] - 9s 7ms/step - loss: 0.0191 - acc: 0.9955 - val_loss: 0.1743 - val_acc: 0.9563\nEpoch 67/100\n1408/1408 [==============================] - 9s 7ms/step - loss: 0.0158 - acc: 0.9965 - val_loss: 0.1782 - val_acc: 0.9552\nEpoch 68/100\n1408/1408 [==============================] - 9s 7ms/step - loss: 0.0138 - acc: 0.9973 - val_loss: 0.1838 - val_acc: 0.9527\nEpoch 69/100\n1408/1408 [==============================] - 9s 7ms/step - loss: 0.0122 - acc: 0.9982 - val_loss: 0.1855 - val_acc: 0.9551\nEpoch 70/100\n1408/1408 [==============================] - 9s 7ms/step - loss: 0.0107 - acc: 0.9985 - val_loss: 0.1876 - val_acc: 0.9540\nEpoch 71/100\n1408/1408 [==============================] - 9s 7ms/step - loss: 0.0094 - acc: 0.9990 - val_loss: 0.1902 - val_acc: 0.9542\nEpoch 72/100\n1408/1408 [==============================] - 9s 7ms/step - loss: 0.0074 - acc: 0.9995 - val_loss: 0.1930 - val_acc: 0.9542\nEpoch 73/100\n1408/1408 [==============================] - 9s 7ms/step - loss: 0.0066 - acc: 0.9994 - val_loss: 0.1959 - val_acc: 0.9538\nEpoch 74/100\n1408/1408 [==============================] - 9s 7ms/step - loss: 0.0062 - acc: 0.9997 - val_loss: 0.1957 - val_acc: 0.9531\nEpoch 75/100\n1408/1408 [==============================] - 9s 7ms/step - loss: 0.0057 - acc: 0.9998 - val_loss: 0.1952 - val_acc: 0.9537\nEpoch 76/100\n1408/1408 [==============================] - 9s 7ms/step - loss: 0.0051 - acc: 0.9997 - val_loss: 0.1991 - val_acc: 0.9541\nEpoch 77/100\n1408/1408 [==============================] - 9s 7ms/step - loss: 0.0045 - acc: 0.9998 - val_loss: 0.1978 - val_acc: 0.9533\nEpoch 78/100\n1408/1408 [==============================] - 9s 7ms/step - loss: 0.0041 - acc: 0.9999 - val_loss: 0.2051 - val_acc: 0.9527\nEpoch 79/100\n1408/1408 [==============================] - 9s 7ms/step - loss: 0.0039 - acc: 1.0000 - val_loss: 0.2041 - val_acc: 0.9523\nEpoch 80/100\n1408/1408 [==============================] - 9s 7ms/step - loss: 0.0037 - acc: 0.9999 - val_loss: 0.2055 - val_acc: 0.9514\nEpoch 81/100\n1408/1408 [==============================] - 9s 7ms/step - loss: 0.0035 - acc: 0.9999 - val_loss: 0.2077 - val_acc: 0.9536\nEpoch 82/100\n1408/1408 [==============================] - 9s 7ms/step - loss: 0.0031 - acc: 0.9999 - val_loss: 0.2050 - val_acc: 0.9527\nEpoch 83/100\n1408/1408 [==============================] - 9s 7ms/step - loss: 0.0026 - acc: 1.0000 - val_loss: 0.2081 - val_acc: 0.9520\nEpoch 84/100\n1408/1408 [==============================] - 9s 7ms/step - loss: 0.0025 - acc: 1.0000 - val_loss: 0.2087 - val_acc: 0.9519\nEpoch 85/100\n1408/1408 [==============================] - 9s 7ms/step - loss: 0.0029 - acc: 0.9998 - val_loss: 0.2065 - val_acc: 0.9510\nEpoch 86/100\n1408/1408 [==============================] - 9s 7ms/step - loss: 0.0025 - acc: 0.9999 - val_loss: 0.2089 - val_acc: 0.9523\nEpoch 87/100\n1408/1408 [==============================] - 9s 7ms/step - loss: 0.0022 - acc: 1.0000 - val_loss: 0.2106 - val_acc: 0.9517\nEpoch 88/100\n1408/1408 [==============================] - 9s 7ms/step - loss: 0.0021 - acc: 1.0000 - val_loss: 0.2128 - val_acc: 0.9520\nEpoch 89/100\n1408/1408 [==============================] - 9s 7ms/step - loss: 0.0021 - acc: 0.9999 - val_loss: 0.2132 - val_acc: 0.9507\nEpoch 90/100\n1408/1408 [==============================] - 9s 7ms/step - loss: 0.0021 - acc: 1.0000 - val_loss: 0.2114 - val_acc: 0.9517\nEpoch 91/100\n1408/1408 [==============================] - 9s 7ms/step - loss: 0.0018 - acc: 1.0000 - val_loss: 0.2160 - val_acc: 0.9510\nEpoch 92/100\n1408/1408 [==============================] - 9s 7ms/step - loss: 0.0016 - acc: 1.0000 - val_loss: 0.2145 - val_acc: 0.9528\nEpoch 93/100\n1408/1408 [==============================] - 9s 7ms/step - loss: 0.0016 - acc: 1.0000 - val_loss: 0.2190 - val_acc: 0.9502\nEpoch 94/100\n1408/1408 [==============================] - 9s 7ms/step - loss: 0.0017 - acc: 1.0000 - val_loss: 0.2197 - val_acc: 0.9505\nEpoch 95/100\n1408/1408 [==============================] - 9s 7ms/step - loss: 0.0017 - acc: 1.0000 - val_loss: 0.2209 - val_acc: 0.9503\nEpoch 96/100\n1408/1408 [==============================] - 9s 7ms/step - loss: 0.0014 - acc: 1.0000 - val_loss: 0.2193 - val_acc: 0.9516\nEpoch 97/100\n1408/1408 [==============================] - 9s 7ms/step - loss: 0.0013 - acc: 1.0000 - val_loss: 0.2202 - val_acc: 0.9517\nEpoch 98/100\n1408/1408 [==============================] - 9s 7ms/step - loss: 0.0025 - acc: 0.9997 - val_loss: 0.2155 - val_acc: 0.9518\nEpoch 99/100\n1408/1408 [==============================] - 9s 7ms/step - loss: 0.0021 - acc: 0.9999 - val_loss: 0.2160 - val_acc: 0.9507\nEpoch 100/100\n1408/1408 [==============================] - 9s 7ms/step - loss: 0.0013 - acc: 1.0000 - val_loss: 0.2178 - val_acc: 0.9515\n",
          "name": "stdout"
        },
        {
          "output_type": "execute_result",
          "execution_count": 44,
          "data": {
            "text/plain": "<keras.callbacks.History at 0x7f8774e3cbe0>"
          },
          "metadata": {}
        }
      ]
    },
    {
      "metadata": {
        "trusted": true,
        "_uuid": "09909bf2f97902a05e1e79bd5f2feefb0f1189bb"
      },
      "cell_type": "code",
      "source": "import sys\nstart = np.random.randint(0, len(charX)-1)\npattern = charX[start]\nfor i in range(1000):\n    x = np.reshape(pattern, (1, len(pattern), 1))\n    x = x / float(len(char))\n    prediction=model.predict(x, verbose=0)\n    index = np.argmax(prediction)\n    result = id_to_char[index]\n    seq_in = [id_to_char[value] for value in pattern]\n    sys.stdout.write(result)\n    pattern.append(index)\n    pattern = pattern[1:len(pattern)]\n    ",
      "execution_count": 47,
      "outputs": [
        {
          "output_type": "stream",
          "text": "s by flood and field;\nof hairbreadth scapes i' the' imminent deadly breach;\nof being taken by the insolent foe\nand sold to slavery; of my redemption thence\nand portance in my travels' history;\nwherein of anters vast and deserts idle,\nrough quarries, rocks, and hills whose heads touch heaven,\nit was my hint to speak -- such was the process;\nand of the cannibals that each other eat,\nthe anthropophagi, and men whose heads\ndo grow beneath their shoulders. this to hear\nwould desdemona seriously incline;\nbut still the house affairs would draw her thence;\nwhich ever she could with haste dispatch,\nshe'd come again, and with a greedy ear\ndevour up my discourse. which i observing,\ntook once a pliant hour, and found good means\nto draw from her a prayer of earnest heart\nthat i would all my pilgrimage dilate,\nwhereof by parcels she had something heard,\nbut not intentively. i did consent,\nand often did beguile her of her tears\nwhen i did speak of some distressful stroke\nthat my youth suffered. my st",
          "name": "stdout"
        }
      ]
    },
    {
      "metadata": {
        "trusted": true,
        "collapsed": true,
        "_uuid": "a88b588d0b0c6342830f003033df9b91f53ad9c9"
      },
      "cell_type": "code",
      "source": "",
      "execution_count": null,
      "outputs": []
    }
  ],
  "metadata": {
    "kernelspec": {
      "display_name": "Python 3",
      "language": "python",
      "name": "python3"
    },
    "language_info": {
      "name": "python",
      "version": "3.6.4",
      "mimetype": "text/x-python",
      "codemirror_mode": {
        "name": "ipython",
        "version": 3
      },
      "pygments_lexer": "ipython3",
      "nbconvert_exporter": "python",
      "file_extension": ".py"
    }
  },
  "nbformat": 4,
  "nbformat_minor": 1
}